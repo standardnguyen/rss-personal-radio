{
 "cells": [
  {
   "cell_type": "code",
   "execution_count": null,
   "metadata": {},
   "outputs": [],
   "source": [
    "import os\n",
    "import requests\n",
    "import shutil\n",
    "from elevenlabs.client import ElevenLabs, VoiceSettings\n",
    "from elevenlabs import play"
   ]
  },
  {
   "cell_type": "code",
   "execution_count": null,
   "metadata": {},
   "outputs": [],
   "source": [
    "client = ElevenLabs()\n",
    "\n"
   ]
  },
  {
   "cell_type": "code",
   "execution_count": null,
   "metadata": {},
   "outputs": [],
   "source": [
    "# Define the directory for saving the generated MP3 (if needed)\n",
    "personal_daily_intro_dir = os.path.join(\"temp\", \"personal_daily_intro\")\n",
    "os.makedirs(personal_daily_intro_dir, exist_ok=True)\n",
    "\n",
    "# Set your dummy text directly in the code\n",
    "dummy_text = \"Gooooood morning, Standard! Today is...\"\n",
    "\n",
    "# Convert the text to speech using the ElevenLabs API\n",
    "audio = client.text_to_speech.convert(\n",
    "    text=dummy_text,\n",
    "    voice_id=\"15ykVVhNtZjeRtlW8QZC\",\n",
    "    model_id=\"eleven_multilingual_v2\",\n",
    "    output_format=\"mp3_44100_128\",\n",
    "    voice_settings=VoiceSettings(\n",
    "        stability=0.5,\n",
    "        similarity_boost=0.75,\n",
    "        style=0.4,\n",
    "        use_speaker_boost=True\n",
    "    )\n",
    ")\n",
    "\n",
    "# Create the output MP3 file name\n",
    "output_mp3_path = os.path.join(personal_daily_intro_dir, \"dummy.mp3\")\n",
    "\n",
    "# Write the audio stream to the MP3 file\n",
    "with open(output_mp3_path, \"wb\") as mp3_file:\n",
    "    for chunk in audio:\n",
    "        mp3_file.write(chunk)\n",
    "\n",
    "print(f\"Saved MP3 to {output_mp3_path}\")\n"
   ]
  }
 ],
 "metadata": {
  "kernelspec": {
   "display_name": ".venv",
   "language": "python",
   "name": "python3"
  },
  "language_info": {
   "name": "python",
   "version": "3.12.0"
  }
 },
 "nbformat": 4,
 "nbformat_minor": 2
}
