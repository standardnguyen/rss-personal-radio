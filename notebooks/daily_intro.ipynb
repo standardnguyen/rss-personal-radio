{
 "cells": [
  {
   "cell_type": "code",
   "execution_count": 1,
   "metadata": {},
   "outputs": [],
   "source": [
    "import os\n",
    "import requests\n",
    "import shutil\n",
    "from elevenlabs.client import ElevenLabs, VoiceSettings\n",
    "from elevenlabs import play\n",
    "import datetime\n",
    "from vocoder import vocode_audio\n",
    "from update_trello_card_audio import update_trello_card_audio"
   ]
  },
  {
   "cell_type": "code",
   "execution_count": 2,
   "metadata": {},
   "outputs": [],
   "source": [
    "client = ElevenLabs()"
   ]
  },
  {
   "cell_type": "code",
   "execution_count": null,
   "metadata": {},
   "outputs": [],
   "source": [
    "# Get the current date and time\n",
    "now = datetime.datetime.now()\n",
    "\n",
    "# Format the date as \"Saturday, December 21, 2025\"\n",
    "formatted_date = now.strftime(\"%A, %B %d, %Y\")\n",
    "\n",
    "print(formatted_date)\n",
    "\n",
    "dummy_text = \"Good morning, Standard! Today is \" + formatted_date\n"
   ]
  },
  {
   "cell_type": "code",
   "execution_count": null,
   "metadata": {},
   "outputs": [],
   "source": [
    "# Define the directory for saving the generated MP3 (if needed)\n",
    "personal_daily_intro_dir = os.path.join(\"temp\", \"personal_daily_intro\")\n",
    "os.makedirs(personal_daily_intro_dir, exist_ok=True)\n",
    "\n",
    "# Set your dummy text directly in the code\n",
    "\n",
    "# Convert the text to speech using the ElevenLabs API\n",
    "audio = client.text_to_speech.convert(\n",
    "    text=dummy_text,\n",
    "    voice_id=\"15ykVVhNtZjeRtlW8QZC\",\n",
    "    model_id=\"eleven_multilingual_v2\",\n",
    "    output_format=\"mp3_44100_128\",\n",
    "    voice_settings=VoiceSettings(\n",
    "        stability=0.5,\n",
    "        similarity_boost=0.75,\n",
    "        style=0.4,\n",
    "        use_speaker_boost=True\n",
    "    )\n",
    ")\n",
    "\n",
    "# Create the output MP3 file name\n",
    "output_mp3_path = os.path.join(personal_daily_intro_dir, \"eleven_personal_intro.mp3\")\n",
    "\n",
    "# Write the audio stream to the MP3 file\n",
    "with open(output_mp3_path, \"wb\") as mp3_file:\n",
    "    for chunk in audio:\n",
    "        mp3_file.write(chunk)\n",
    "\n",
    "print(f\"Saved MP3 to {output_mp3_path}\")\n"
   ]
  },
  {
   "cell_type": "code",
   "execution_count": null,
   "metadata": {},
   "outputs": [],
   "source": [
    "vocoded_output_path = os.path.join(personal_daily_intro_dir, \"eleven_personal_intro.wav\")\n",
    "\n",
    "\n",
    "vocode_audio(output_mp3_path, vocoded_output_path)"
   ]
  },
  {
   "cell_type": "code",
   "execution_count": null,
   "metadata": {},
   "outputs": [],
   "source": [
    "update_trello_card_audio(\"Daily Wakeup Intro\", vocoded_output_path)\n",
    "\n",
    "# environment variables don't work well with ipynb"
   ]
  }
 ],
 "metadata": {
  "kernelspec": {
   "display_name": ".venv",
   "language": "python",
   "name": "python3"
  },
  "language_info": {
   "codemirror_mode": {
    "name": "ipython",
    "version": 3
   },
   "file_extension": ".py",
   "mimetype": "text/x-python",
   "name": "python",
   "nbconvert_exporter": "python",
   "pygments_lexer": "ipython3",
   "version": "3.12.0"
  }
 },
 "nbformat": 4,
 "nbformat_minor": 2
}
