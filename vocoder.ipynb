{
 "cells": [
  {
   "cell_type": "code",
   "execution_count": 1,
   "metadata": {},
   "outputs": [],
   "source": [
    "import librosa\n",
    "import numpy as np\n",
    "import soundfile as sf\n",
    "from pedalboard import Pedalboard, Phaser, Chorus, Reverb, load_plugin\n",
    "import soundfile as sf\n",
    "import scipy.signal as sps\n",
    "from scipy.signal import butter, lfilter\n",
    "\n",
    "# --- TOGGLE THESE FLAGS ---\n",
    "DO_PITCH_SHIFT = False\n",
    "PITCH_SHIFT_STEPS = -3  # e.g. -3 semitones to lower pitch\n",
    "\n",
    "DO_RING_MOD = False\n",
    "RING_MOD_FREQ = 400  # e.g. 30 Hz for metallic effect\n",
    "\n",
    "DO_BANDPASS = True\n",
    "BANDPASS_LOW = 300\n",
    "BANDPASS_HIGH = 5000\n",
    "\n",
    "DO_FLANGER = True            # Set to False to skip flanger\n",
    "FLANGER_RATE = 1           # LFO rate in Hz, between 0.1 Hz and 5 Hz\n",
    "FLANGER_DEPTH = 0.8          # Depth of modulation (0 to 1)\n",
    "FLANGER_CENTRE_DELAY_MS = 3.0  # Centre delay in ms (lower values yield a flanger-like effect)\n",
    "FLANGER_FEEDBACK = 0.5       # Amount of feedback (0 to ~0.9)\n",
    "FLANGER_MIX = 0.2            # Wet/dry mix (0 = all dry, 1 = all wet)\n",
    "\n",
    "DO_PHASER = True   # Toggle phaser\n",
    "PHASER_RATE = 1.5 # Lower values (e.g., 0.1–1 Hz) yield a slow, sweeping modulation, which is typical for a classic phaser sound. \n",
    "                  # If you increase this value, the sweep will occur more quickly, which can create a more dramatic or choppy effect.\n",
    "PHASER_DEPTH = 0.7 # Usually 0 to 1, where 0 means no modulation (effect is barely noticeable) and 1 means full modulation (the effect is very pronounced).\n",
    "PHASER_MIX = 0.5 # Wet/dry mix (0 = all dry, 1 = all wet)\n",
    "\n",
    "OUTPUT_FILE = 'corporate_voice.wav'  # Final exported filename\n"
   ]
  },
  {
   "cell_type": "code",
   "execution_count": 2,
   "metadata": {},
   "outputs": [],
   "source": [
    "def bandpass_filter(data, lowcut, highcut, fs, order=4):\n",
    "    \"\"\"\n",
    "    Simple Butterworth bandpass filter to narrow frequency range\n",
    "    (for an intercom / 'Evil Corp' effect).\n",
    "    \"\"\"\n",
    "    nyquist = 0.5 * fs\n",
    "    low = lowcut / nyquist\n",
    "    high = highcut / nyquist\n",
    "    b, a = butter(order, [low, high], btype='band')\n",
    "    return lfilter(b, a, data)\n",
    "\n",
    "def apply_convolution_reverb(signal, ir):\n",
    "    \"\"\"\n",
    "    Convolve the input signal with a room or speaker impulse response (IR).\n",
    "    We'll trim it later to match the original length.\n",
    "    \"\"\"\n",
    "    return sps.fftconvolve(signal, ir, mode='full')\n"
   ]
  },
  {
   "cell_type": "code",
   "execution_count": null,
   "metadata": {},
   "outputs": [],
   "source": [
    "# Load the main audio file (MP3, WAV, OGG, FLAC, etc.)\n",
    "# sr=None keeps original sample rate\n",
    "y, sr = librosa.load('input.mp3', sr=None)\n",
    "\n",
    "# We'll keep y_current as our \"work-in-progress\" audio.\n",
    "y_current = y.copy()\n",
    "\n",
    "print(f\"Loaded {len(y)} samples at {sr} Hz.\")\n"
   ]
  },
  {
   "cell_type": "code",
   "execution_count": null,
   "metadata": {},
   "outputs": [],
   "source": [
    "if DO_PITCH_SHIFT:\n",
    "    print(f\"Pitch-shifting by {PITCH_SHIFT_STEPS} semitones...\")\n",
    "    y_current = librosa.effects.pitch_shift(\n",
    "        y=y_current,\n",
    "        sr=sr,\n",
    "        n_steps=PITCH_SHIFT_STEPS,\n",
    "        bins_per_octave=12,\n",
    "        res_type='kaiser_best'\n",
    "    )\n",
    "else:\n",
    "    print(\"Skipping pitch shift.\")\n",
    "\n"
   ]
  },
  {
   "cell_type": "code",
   "execution_count": null,
   "metadata": {},
   "outputs": [],
   "source": [
    "if DO_RING_MOD:\n",
    "    print(f\"Applying ring modulation at {RING_MOD_FREQ} Hz...\")\n",
    "    duration = len(y_current) / sr\n",
    "    t = np.linspace(0, duration, len(y_current), endpoint=False)\n",
    "    carrier = np.sin(2.0 * np.pi * RING_MOD_FREQ * t)\n",
    "    y_current = y_current * carrier\n",
    "else:\n",
    "    print(\"Skipping ring modulation.\")\n",
    "\n"
   ]
  },
  {
   "cell_type": "code",
   "execution_count": null,
   "metadata": {},
   "outputs": [],
   "source": [
    "if DO_BANDPASS:\n",
    "    print(f\"Applying bandpass filter from {BANDPASS_LOW} Hz to {BANDPASS_HIGH} Hz...\")\n",
    "    y_current = bandpass_filter(y_current, BANDPASS_LOW, BANDPASS_HIGH, sr)\n",
    "else:\n",
    "    print(\"Skipping bandpass filter.\")\n",
    "\n"
   ]
  },
  {
   "cell_type": "code",
   "execution_count": null,
   "metadata": {},
   "outputs": [],
   "source": [
    "if DO_FLANGER:\n",
    "    print(f\"Applying Flanger: rate={FLANGER_RATE} Hz, depth={FLANGER_DEPTH}, centre_delay={FLANGER_CENTRE_DELAY_MS} ms, feedback={FLANGER_FEEDBACK}, mix={FLANGER_MIX}\")\n",
    "    \n",
    "    # Convert mono audio to 2D array (channels x samples) for Pedalboard\n",
    "    y_2d = np.expand_dims(y_current, axis=0)\n",
    "    \n",
    "    # Create a Chorus plugin instance tuned to simulate a flanger effect.\n",
    "    # Note: A lower centre_delay and higher feedback help achieve a flanger-like sweep.\n",
    "    from pedalboard import Pedalboard, Chorus\n",
    "    flanger_plugin = Chorus(\n",
    "        rate_hz=FLANGER_RATE,\n",
    "        depth=FLANGER_DEPTH,\n",
    "        centre_delay_ms=FLANGER_CENTRE_DELAY_MS,\n",
    "        feedback=FLANGER_FEEDBACK,\n",
    "        mix=FLANGER_MIX\n",
    "    )\n",
    "    \n",
    "    # Build a Pedalboard chain with just the flanger (Chorus) effect\n",
    "    board = Pedalboard([flanger_plugin])\n",
    "    \n",
    "    # Process the audio through the Pedalboard\n",
    "    processed = board(y_2d, sample_rate=sr)\n",
    "    \n",
    "    # Convert back to a 1D array (mono)\n",
    "    y_current = np.squeeze(processed, axis=0)\n",
    "    print(\"Flanger applied.\")\n",
    "else:\n",
    "    print(\"Skipping flanger.\")\n",
    "\n"
   ]
  },
  {
   "cell_type": "code",
   "execution_count": null,
   "metadata": {},
   "outputs": [],
   "source": [
    "if DO_PHASER:\n",
    "    print(f\"Applying Phaser with rate={PHASER_RATE} Hz, depth={PHASER_DEPTH}, mix={PHASER_MIX}...\")\n",
    "    y_2d = np.expand_dims(y_current, axis=0)\n",
    "\n",
    "    board = Pedalboard([\n",
    "        Phaser(rate_hz=PHASER_RATE, depth=PHASER_DEPTH, mix=PHASER_MIX),\n",
    "    ])\n",
    "\n",
    "    processed = board(y_2d, sample_rate=sr)\n",
    "    y_current = np.squeeze(processed, axis=0)\n",
    "else:\n",
    "    print(\"Skipping phaser.\")\n",
    "\n"
   ]
  },
  {
   "cell_type": "code",
   "execution_count": null,
   "metadata": {},
   "outputs": [],
   "source": [
    "sf.write(OUTPUT_FILE, y_current, sr)\n",
    "print(f\"Done! Wrote processed audio to {OUTPUT_FILE}.\")\n",
    "\n"
   ]
  }
 ],
 "metadata": {
  "kernelspec": {
   "display_name": ".venv",
   "language": "python",
   "name": "python3"
  },
  "language_info": {
   "codemirror_mode": {
    "name": "ipython",
    "version": 3
   },
   "file_extension": ".py",
   "mimetype": "text/x-python",
   "name": "python",
   "nbconvert_exporter": "python",
   "pygments_lexer": "ipython3",
   "version": "3.12.0"
  }
 },
 "nbformat": 4,
 "nbformat_minor": 2
}
